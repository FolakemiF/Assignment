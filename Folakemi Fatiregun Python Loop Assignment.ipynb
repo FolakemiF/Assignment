{
 "cells": [
  {
   "cell_type": "markdown",
   "id": "f67cc014",
   "metadata": {},
   "source": [
    "### Question 1\n",
    "Write a program using the following list and sort it based on the sum of the values of the tuples of the list:"
   ]
  },
  {
   "cell_type": "code",
   "execution_count": 62,
   "id": "67d9ef69",
   "metadata": {},
   "outputs": [
    {
     "data": {
      "text/plain": [
       "[2, 6, 9, 9, 15, 19]"
      ]
     },
     "execution_count": 62,
     "metadata": {},
     "output_type": "execute_result"
    }
   ],
   "source": [
    "list = [(1,5),(9,0),(12,3),(5,4),(13,6),(1,1)]\n",
    "\n",
    "list2 = [sum(i) for i in list]\n",
    "sorted(list2)"
   ]
  },
  {
   "cell_type": "markdown",
   "id": "76ea5475",
   "metadata": {},
   "source": [
    "## Question 2\n",
    "Given a two Python list, Iterate both lists simultaneously such that list1 should display item in original order and list2 in reverse order"
   ]
  },
  {
   "cell_type": "code",
   "execution_count": 4,
   "id": "c0c67d0d",
   "metadata": {},
   "outputs": [
    {
     "name": "stdout",
     "output_type": "stream",
     "text": [
      "10 400\n",
      "20 300\n",
      "30 200\n",
      "40 100\n"
     ]
    }
   ],
   "source": [
    "list1 = [10, 20, 30, 40] \n",
    "list2 = [100, 200, 300, 400]\n",
    "list3 =sorted(list2, reverse= True)\n",
    "\n",
    "for (a, b) in zip(list1, list3): #use zip function to iterate between multiple list\n",
    "     print (a, b)"
   ]
  },
  {
   "cell_type": "markdown",
   "id": "a410ecbb",
   "metadata": {},
   "source": [
    "## Question 3\n",
    "Given number 1 through 10, write a program to display \"Even\" for even numbers and \"Odd\" for odd numbers"
   ]
  },
  {
   "cell_type": "code",
   "execution_count": 8,
   "id": "c2ec678e",
   "metadata": {},
   "outputs": [
    {
     "name": "stdout",
     "output_type": "stream",
     "text": [
      "Odd:1\n",
      "Even:2\n",
      "Odd:3\n",
      "Even:4\n",
      "Odd:5\n",
      "Even:6\n",
      "Odd:7\n",
      "Even:8\n",
      "Odd:9\n",
      "Even:10\n"
     ]
    }
   ],
   "source": [
    "for i in range(1, 11):\n",
    "    if i%2 == 1:\n",
    "        print(f\"Odd:{i}\")\n",
    "    else:\n",
    "        print(f\"Even:{i}\")"
   ]
  },
  {
   "cell_type": "markdown",
   "id": "0efd1e23",
   "metadata": {},
   "source": [
    "## Question 4\n",
    "Write a Python program to count the number of strings where the string length is 2 or more and the first and last character are same from a given list of strings"
   ]
  },
  {
   "cell_type": "code",
   "execution_count": 61,
   "id": "32ac2215",
   "metadata": {},
   "outputs": [
    {
     "data": {
      "text/plain": [
       "4"
      ]
     },
     "execution_count": 61,
     "metadata": {},
     "output_type": "execute_result"
    }
   ],
   "source": [
    "program = ['abc', 'xyz', 'aba', '1221', 'bhgsskknb', 'aa', 'd']\n",
    "\n",
    "count = 0\n",
    "\n",
    "for i in program:\n",
    "    if len(i) >= 2 and i[0] == i[-1]:\n",
    "        count+=1\n",
    "count"
   ]
  },
  {
   "cell_type": "markdown",
   "id": "c066fae9",
   "metadata": {},
   "source": [
    "## Question 5\n",
    "Write a program to collect 5 different numbers from a user and display the average of the five numbers without storing the values collected at any point"
   ]
  },
  {
   "cell_type": "code",
   "execution_count": 50,
   "id": "b19a4d52",
   "metadata": {},
   "outputs": [
    {
     "name": "stdout",
     "output_type": "stream",
     "text": [
      "enter a number:7\n",
      "enter a number:7\n",
      "enter a number:7\n",
      "enter a number:7\n",
      "enter a number:7\n"
     ]
    },
    {
     "data": {
      "text/plain": [
       "7.0"
      ]
     },
     "execution_count": 50,
     "metadata": {},
     "output_type": "execute_result"
    }
   ],
   "source": [
    "total= 0\n",
    "count= 0\n",
    "for i in range(5):\n",
    "    num =float(input(\"enter a number:\"))\n",
    "    total+=num\n",
    "    count+=1\n",
    "average =total/count\n",
    "average"
   ]
  },
  {
   "cell_type": "markdown",
   "id": "6d189662",
   "metadata": {},
   "source": [
    "## Question 6\n",
    "Write a program such that  𝑙𝑖𝑠𝑡1  will act as keys while  𝑙𝑖𝑠𝑡2  will act as the values of the dictionary"
   ]
  },
  {
   "cell_type": "code",
   "execution_count": 29,
   "id": "3c2d1833",
   "metadata": {},
   "outputs": [
    {
     "data": {
      "text/plain": [
       "{1: 'a', 2: 'b', 3: 'c', 4: 'd', 5: 'e'}"
      ]
     },
     "execution_count": 29,
     "metadata": {},
     "output_type": "execute_result"
    }
   ],
   "source": [
    "list1 = [1, 2, 3, 4, 5]\n",
    "list2 = [\"a\", \"b\", \"c\",\"d\", \"e\"]\n",
    "dictionary = dict(zip(list1, list2))\n",
    "dictionary"
   ]
  }
 ],
 "metadata": {
  "kernelspec": {
   "display_name": "Python 3 (ipykernel)",
   "language": "python",
   "name": "python3"
  },
  "language_info": {
   "codemirror_mode": {
    "name": "ipython",
    "version": 3
   },
   "file_extension": ".py",
   "mimetype": "text/x-python",
   "name": "python",
   "nbconvert_exporter": "python",
   "pygments_lexer": "ipython3",
   "version": "3.9.7"
  }
 },
 "nbformat": 4,
 "nbformat_minor": 5
}
